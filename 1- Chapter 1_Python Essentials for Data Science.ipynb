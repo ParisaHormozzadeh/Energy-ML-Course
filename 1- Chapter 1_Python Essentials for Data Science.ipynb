{
 "cells": [
  {
   "attachments": {},
   "cell_type": "markdown",
   "id": "74b15725",
   "metadata": {},
   "source": [
    "# Chapter 1: Python Essentials for Data Science\n",
    "## By: Parisa Hormozzadeh\n",
    "---"
   ]
  },
  {
   "attachments": {},
   "cell_type": "markdown",
   "id": "86bc20d2",
   "metadata": {},
   "source": [
    "## 1. Variables and Data Types\n",
    "\n",
    "### Common data types:\n",
    "- **int**: integer numbers, e.g., `10`, `-3`  \n",
    "- **float**: decimal numbers, e.g., `3.14`, `-0.001`  \n",
    "- **str**: text (string), e.g., `\"Voltage\"`, `\"Energy2025\"`  \n",
    "- **bool**: Boolean (True or False)  \n",
    "\n",
    "---"
   ]
  },
  {
   "cell_type": "code",
   "execution_count": 2,
   "id": "90784146",
   "metadata": {},
   "outputs": [
    {
     "name": "stdout",
     "output_type": "stream",
     "text": [
      "220 15.5 ON True\n"
     ]
    }
   ],
   "source": [
    "voltage = 220          # int\n",
    "current = 15.5         # float\n",
    "status = \"ON\"          # string\n",
    "is_operational = True  # boolean\n",
    "\n",
    "print(voltage, current, status, is_operational)"
   ]
  },
  {
   "cell_type": "code",
   "execution_count": 5,
   "id": "85203973",
   "metadata": {},
   "outputs": [
    {
     "data": {
      "text/plain": [
       "str"
      ]
     },
     "execution_count": 5,
     "metadata": {},
     "output_type": "execute_result"
    }
   ],
   "source": [
    "type(status)"
   ]
  },
  {
   "attachments": {},
   "cell_type": "markdown",
   "id": "317f5e17",
   "metadata": {},
   "source": [
    "## 2. Basic Operations and Expressions\n",
    "- Arithmetic: `+`, `-`, `*`, `/`, `//` (floor division), `%` (modulus), `**` (power)  \n",
    "- Comparison: `==`, `!=`, `<`, `>`, `<=`, `>=`  \n",
    "- Logical: `and`, `or`, `not`\n",
    "\n",
    "---"
   ]
  },
  {
   "cell_type": "code",
   "execution_count": 2,
   "id": "d8db1c6a",
   "metadata": {},
   "outputs": [
    {
     "name": "stdout",
     "output_type": "stream",
     "text": [
      "Power: 3410.0\n",
      "Is power greater than 3000? True\n",
      "Is system running at high voltage AND current? True\n"
     ]
    }
   ],
   "source": [
    "power = voltage * current  # Calculate power (simplified)\n",
    "print(\"Power:\", power)\n",
    "\n",
    "# Comparison\n",
    "print(\"Is power greater than 3000?\", power > 3000)\n",
    "\n",
    "# Logical\n",
    "is_high_voltage = voltage > 200\n",
    "is_high_current = current > 10\n",
    "print(\"Is system running at high voltage AND current?\", is_high_voltage and is_high_current)"
   ]
  },
  {
   "attachments": {},
   "cell_type": "markdown",
   "id": "141c6c51",
   "metadata": {},
   "source": [
    "## 3. Data Structures\n",
    "### 3.1 Lists\n",
    "- Ordered, changeable collection of elements.  \n",
    "- Can contain different data types.\n",
    "\n",
    "---"
   ]
  },
  {
   "cell_type": "code",
   "execution_count": 1,
   "id": "76c887b1",
   "metadata": {},
   "outputs": [
    {
     "name": "stdout",
     "output_type": "stream",
     "text": [
      "[220, 230, 210, 225]\n",
      "First reading: 220\n",
      "[220, 230, 210, 225, 235]\n"
     ]
    }
   ],
   "source": [
    "energy_readings = [220, 230, 210, 225]\n",
    "print(energy_readings)\n",
    "print(\"First reading:\", energy_readings[0])  \n",
    "\n",
    "energy_readings.append(235)\n",
    "print(energy_readings)"
   ]
  },
  {
   "attachments": {},
   "cell_type": "markdown",
   "id": "5669a9df",
   "metadata": {},
   "source": [
    "### 3.2. Tuples\n",
    "- Like lists but **immutable** (cannot change).  \n",
    "- Used when data should not be modified.\n",
    "\n",
    "---"
   ]
  },
  {
   "cell_type": "code",
   "execution_count": 9,
   "id": "c593f440",
   "metadata": {},
   "outputs": [
    {
     "name": "stdout",
     "output_type": "stream",
     "text": [
      "(35.6895, 51.389)\n"
     ]
    }
   ],
   "source": [
    "coordinates = (35.6895, 51.3890)  # latitude, longitude\n",
    "print(coordinates)"
   ]
  },
  {
   "cell_type": "code",
   "execution_count": null,
   "id": "6c3d5e6c",
   "metadata": {},
   "outputs": [],
   "source": [
    "coordinates[0]= 45.9\n",
    "# coordinates.append(4)"
   ]
  },
  {
   "attachments": {},
   "cell_type": "markdown",
   "id": "5e4e9c8f",
   "metadata": {},
   "source": [
    "### 3.3. Dictionaries\n",
    "- Key-value pairs, like a map.  \n",
    "- Useful for labeled data.\n",
    "\n",
    "---"
   ]
  },
  {
   "cell_type": "code",
   "execution_count": 5,
   "id": "b42f3392",
   "metadata": {},
   "outputs": [
    {
     "name": "stdout",
     "output_type": "stream",
     "text": [
      "{'voltage': 220, 'current': 15.5, 'status': 'ON'}\n",
      "Voltage: 220\n"
     ]
    }
   ],
   "source": [
    "reading = {'voltage': 220, 'current': 15.5, 'status': 'ON'}\n",
    "print(reading)\n",
    "print(\"Voltage:\", reading['voltage'])"
   ]
  },
  {
   "attachments": {},
   "cell_type": "markdown",
   "id": "3babc05a",
   "metadata": {},
   "source": [
    "### 3.4. Sets\n",
    "- Unordered, unique elements.\n",
    "\n",
    "---"
   ]
  },
  {
   "cell_type": "code",
   "execution_count": 6,
   "id": "0db08cbe",
   "metadata": {},
   "outputs": [
    {
     "name": "stdout",
     "output_type": "stream",
     "text": [
      "{202, 101, 303}\n",
      "{202, 404, 101, 303}\n"
     ]
    }
   ],
   "source": [
    "fault_codes = {101, 202, 303}\n",
    "print(fault_codes)\n",
    "fault_codes.add(404)\n",
    "print(fault_codes)"
   ]
  },
  {
   "attachments": {},
   "cell_type": "markdown",
   "id": "01d2de12",
   "metadata": {},
   "source": [
    "## 4. Control Flow\n",
    "### 4.1. Conditional Statements (`if`, `elif`, `else`)\n",
    "\n",
    "---"
   ]
  },
  {
   "cell_type": "code",
   "execution_count": 7,
   "id": "11f78707",
   "metadata": {},
   "outputs": [
    {
     "name": "stdout",
     "output_type": "stream",
     "text": [
      "Voltage is normal.\n"
     ]
    }
   ],
   "source": [
    "if voltage > 230:\n",
    "    print(\"Voltage too high!\")\n",
    "elif voltage < 210:\n",
    "    print(\"Voltage too low!\")\n",
    "else:\n",
    "    print(\"Voltage is normal.\")"
   ]
  },
  {
   "attachments": {},
   "cell_type": "markdown",
   "id": "b309f7f5",
   "metadata": {},
   "source": [
    "### 4.2. Loops\n",
    "- **for** loop — iterate over a sequence.\n",
    "\n",
    "- **while** loop — repeat while condition true.\n",
    "\n",
    "---"
   ]
  },
  {
   "cell_type": "code",
   "execution_count": 8,
   "id": "ba21361e",
   "metadata": {},
   "outputs": [
    {
     "name": "stdout",
     "output_type": "stream",
     "text": [
      "Voltage reading: 220\n",
      "Voltage reading: 230\n",
      "Voltage reading: 210\n",
      "Voltage reading: 225\n",
      "Voltage reading: 235\n"
     ]
    }
   ],
   "source": [
    "for reading in energy_readings:\n",
    "    print(\"Voltage reading:\", reading)"
   ]
  },
  {
   "cell_type": "code",
   "execution_count": 10,
   "id": "e8eff4c5",
   "metadata": {},
   "outputs": [
    {
     "name": "stdout",
     "output_type": "stream",
     "text": [
      "Counting: 0\n",
      "Counting: 1\n",
      "Counting: 2\n"
     ]
    }
   ],
   "source": [
    "count = 0\n",
    "while count < 3:\n",
    "    print(\"Counting:\", count)\n",
    "    count += 1"
   ]
  },
  {
   "attachments": {},
   "cell_type": "markdown",
   "id": "39dc966f",
   "metadata": {},
   "source": [
    "## 5. Functions\n",
    "- Block of reusable code to perform a task.  \n",
    "- Use `def` keyword.\n",
    "\n",
    "---"
   ]
  },
  {
   "cell_type": "code",
   "execution_count": 11,
   "id": "dab01dfb",
   "metadata": {},
   "outputs": [
    {
     "name": "stdout",
     "output_type": "stream",
     "text": [
      "Power calculated by function: 3300\n"
     ]
    }
   ],
   "source": [
    "def calculate_power(voltage, current):\n",
    "    return voltage * current\n",
    "\n",
    "power_value = calculate_power(220, 15)\n",
    "print(\"Power calculated by function:\", power_value)"
   ]
  },
  {
   "attachments": {},
   "cell_type": "markdown",
   "id": "a82e9c89",
   "metadata": {},
   "source": [
    "## 6. Useful Built-in Functions and Methods\n",
    "- `len()` — length of list/string  \n",
    "- `type()` — data type of variable  \n",
    "- `range()` — generate sequences of numbers  \n",
    "\n",
    "---"
   ]
  },
  {
   "cell_type": "code",
   "execution_count": 13,
   "id": "67f3f596",
   "metadata": {},
   "outputs": [
    {
     "name": "stdout",
     "output_type": "stream",
     "text": [
      "Number of readings: 5\n",
      "Type of variable 'voltage': <class 'int'>\n",
      "Index: 0\n",
      "Index: 1\n",
      "Index: 2\n",
      "Index: 3\n",
      "Index: 4\n"
     ]
    }
   ],
   "source": [
    "print(\"Number of readings:\", len(energy_readings))\n",
    "print(\"Type of variable 'voltage':\", type(voltage))\n",
    "\n",
    "for i in range(5):\n",
    "    print(\"Index:\", i)"
   ]
  },
  {
   "attachments": {},
   "cell_type": "markdown",
   "id": "91f18b1e",
   "metadata": {},
   "source": [
    "## Summary and Practice Exercise\n",
    "- Practice:  \n",
    "  - Create a list of voltages.  \n",
    "  - Write a function to calculate power for each voltage with a fixed current.  \n",
    "  - Print if power is above a threshold.\n",
    "\n",
    "Try coding it yourself!"
   ]
  }
 ],
 "metadata": {
  "kernelspec": {
   "display_name": "Python 3",
   "language": "python",
   "name": "python3"
  },
  "language_info": {
   "codemirror_mode": {
    "name": "ipython",
    "version": 3
   },
   "file_extension": ".py",
   "mimetype": "text/x-python",
   "name": "python",
   "nbconvert_exporter": "python",
   "pygments_lexer": "ipython3",
   "version": "3.7.2"
  }
 },
 "nbformat": 4,
 "nbformat_minor": 5
}
