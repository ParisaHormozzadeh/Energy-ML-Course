{
 "cells": [
  {
   "attachments": {},
   "cell_type": "markdown",
   "id": "8e5d867f",
   "metadata": {},
   "source": [
    "# Chapter 2: Numerical Computing with NumPy\n",
    "## By: Parisa Hormozzadeh\n",
    "\n",
    "Numpy is the fundamental package for scientific computing with Python.\n",
    "\n",
    "It provides support for:\n",
    "- Powerful N-dimensional array objects\n",
    "- Sophisticated functions for fast operations on arrays\n",
    "\n",
    "---"
   ]
  },
  {
   "attachments": {},
   "cell_type": "markdown",
   "id": "d931d53e",
   "metadata": {},
   "source": [
    "## 1. Installing and Importing Numpy\n",
    "If you have Anaconda installed, numpy comes pre-installed.\n",
    "Otherwise, you can install it using:\n",
    "\n",
    "```bash\n",
    "pip install numpy\n",
    "```\n",
    "\n",
    "To use numpy in your code, import it as:\n",
    "\n",
    "---"
   ]
  },
  {
   "cell_type": "code",
   "execution_count": 1,
   "id": "f08322b1",
   "metadata": {},
   "outputs": [],
   "source": [
    "import numpy as np"
   ]
  },
  {
   "attachments": {},
   "cell_type": "markdown",
   "id": "01d9b64f",
   "metadata": {},
   "source": [
    "## 2. Creating Numpy Arrays\n",
    "Numpy arrays can be created from Python lists or tuples.\n",
    "\n",
    "- 1D array (vector)\n",
    "- 2D array (matrix)\n",
    "- 3D arrays and higher dimensions\n",
    "\n",
    "---"
   ]
  },
  {
   "cell_type": "code",
   "execution_count": 2,
   "id": "81f2debd",
   "metadata": {},
   "outputs": [
    {
     "name": "stdout",
     "output_type": "stream",
     "text": [
      "1D array: [220 230 210 225]\n",
      "\n",
      "2D array:\n",
      " [[220  10]\n",
      " [230  15]\n",
      " [210   9]]\n",
      "\n",
      "3D array:\n",
      " [[[1 2]\n",
      "  [3 4]]\n",
      "\n",
      " [[5 6]\n",
      "  [7 8]]]\n"
     ]
    }
   ],
   "source": [
    "# 1D array\n",
    "arr1d = np.array([220, 230, 210, 225])\n",
    "print(\"1D array:\", arr1d)\n",
    "\n",
    "# 2D array\n",
    "arr2d = np.array([[220, 10], [230, 15], [210, 9]])  # voltage, current pairs\n",
    "print(\"\\n2D array:\\n\", arr2d)\n",
    "\n",
    "# 3D array example\n",
    "arr3d = np.array([\n",
    "    [[1, 2], [3, 4]],\n",
    "    [[5, 6], [7, 8]]\n",
    "])\n",
    "print(\"\\n3D array:\\n\", arr3d)"
   ]
  },
  {
   "attachments": {},
   "cell_type": "markdown",
   "id": "34c55e22",
   "metadata": {},
   "source": [
    "## 3. Array Attributes\n",
    "- `shape`: dimensions of the array\n",
    "- `size`: total number of elements\n",
    "- `ndim`: number of dimensions\n",
    "- `dtype`: data type of elements\n",
    "\n",
    "---"
   ]
  },
  {
   "cell_type": "code",
   "execution_count": 3,
   "id": "b37206eb",
   "metadata": {},
   "outputs": [
    {
     "name": "stdout",
     "output_type": "stream",
     "text": [
      "Shape of arr2d: (3, 2)\n",
      "Size of arr2d: 6\n",
      "Number of dimensions (ndim): 2\n",
      "Data type (dtype): int32\n"
     ]
    }
   ],
   "source": [
    "print(\"Shape of arr2d:\", arr2d.shape)\n",
    "print(\"Size of arr2d:\", arr2d.size)\n",
    "print(\"Number of dimensions (ndim):\", arr2d.ndim)\n",
    "print(\"Data type (dtype):\", arr2d.dtype)"
   ]
  },
  {
   "attachments": {},
   "cell_type": "markdown",
   "id": "c370b48b",
   "metadata": {},
   "source": [
    "## 4. Indexing and Slicing\n",
    "Like Python lists, numpy arrays can be indexed and sliced.\n",
    "\n",
    "---"
   ]
  },
  {
   "cell_type": "code",
   "execution_count": 4,
   "id": "bc895424",
   "metadata": {},
   "outputs": [
    {
     "name": "stdout",
     "output_type": "stream",
     "text": [
      "First voltage reading: 220\n",
      "First three readings: [220 230 210]\n",
      "Element [1,0] in arr2d: 230\n"
     ]
    }
   ],
   "source": [
    "# Access first voltage reading\n",
    "print(\"First voltage reading:\", arr1d[0])\n",
    "\n",
    "# Slice first three readings\n",
    "print(\"First three readings:\", arr1d[0:3])\n",
    "\n",
    "# Access element at 2nd row, 1st column in 2D array\n",
    "print(\"Element [1,0] in arr2d:\", arr2d[1,0])"
   ]
  },
  {
   "attachments": {},
   "cell_type": "markdown",
   "id": "bf653797",
   "metadata": {},
   "source": [
    "## 5. Basic Arithmetic Operations\n",
    "- Operations apply element-wise on arrays.\n",
    "- Supported operators: `+`, `-`, `*`, `/`, `**` (power)\n",
    "\n",
    "---"
   ]
  },
  {
   "cell_type": "code",
   "execution_count": 5,
   "id": "d5cdec98",
   "metadata": {},
   "outputs": [
    {
     "name": "stdout",
     "output_type": "stream",
     "text": [
      "Power for each reading: [2200 3450 1890]\n",
      "Voltage after adding 5: [225 235 215]\n"
     ]
    }
   ],
   "source": [
    "arr_voltage = np.array([220, 230, 210])\n",
    "arr_current = np.array([10, 15, 9])\n",
    "\n",
    "# Calculate power for each reading (element-wise multiplication)\n",
    "power = arr_voltage * arr_current\n",
    "print(\"Power for each reading:\", power)\n",
    "\n",
    "# Add 5 volts to each voltage reading\n",
    "new_voltage = arr_voltage + 5\n",
    "print(\"Voltage after adding 5:\", new_voltage)"
   ]
  },
  {
   "attachments": {},
   "cell_type": "markdown",
   "id": "d332c7cd",
   "metadata": {},
   "source": [
    "## 6. Useful Numpy Functions\n",
    "- `np.mean()`, `np.sum()`, `np.max()`, `np.min()`\n",
    "- `np.reshape()` to change array shape\n",
    "- `np.arange()` to create sequences\n",
    "- `np.linspace()` to create evenly spaced numbers\n",
    "\n",
    "---"
   ]
  },
  {
   "cell_type": "code",
   "execution_count": 6,
   "id": "8d917357",
   "metadata": {},
   "outputs": [
    {
     "name": "stdout",
     "output_type": "stream",
     "text": [
      "Mean voltage: 220.0\n",
      "Sum of currents: 34\n",
      "Reshaped array:\n",
      " [[220]\n",
      " [230]\n",
      " [210]]\n",
      "arange 0 to 9: [0 1 2 3 4 5 6 7 8 9]\n",
      "linspace 0 to 1: [0.   0.25 0.5  0.75 1.  ]\n"
     ]
    }
   ],
   "source": [
    "print(\"Mean voltage:\", np.mean(arr_voltage))\n",
    "print(\"Sum of currents:\", np.sum(arr_current))\n",
    "\n",
    "# Reshape 1D array to 3x1\n",
    "reshaped = arr_voltage.reshape((3,1))\n",
    "print(\"Reshaped array:\\n\", reshaped)\n",
    "\n",
    "# Generate numbers from 0 to 9\n",
    "print(\"arange 0 to 9:\", np.arange(10))\n",
    "\n",
    "# Generate 5 numbers between 0 and 1\n",
    "print(\"linspace 0 to 1:\", np.linspace(0, 1, 5))"
   ]
  },
  {
   "attachments": {},
   "cell_type": "markdown",
   "id": "d9ef7dda",
   "metadata": {},
   "source": [
    "## 7. Example: Energy Data Calculations\n",
    "Suppose we have voltage and current readings and want to calculate power and average power.\n",
    "\n",
    "---"
   ]
  },
  {
   "cell_type": "code",
   "execution_count": 7,
   "id": "9efa31e1",
   "metadata": {},
   "outputs": [
    {
     "name": "stdout",
     "output_type": "stream",
     "text": [
      "Power readings: [2200 3450 1890 2700]\n",
      "Average power: 2560.0\n"
     ]
    }
   ],
   "source": [
    "voltage = np.array([220, 230, 210, 225])\n",
    "current = np.array([10, 15, 9, 12])\n",
    "\n",
    "power = voltage * current\n",
    "print(\"Power readings:\", power)\n",
    "print(\"Average power:\", np.mean(power))"
   ]
  },
  {
   "cell_type": "markdown",
   "id": "96229bfe",
   "metadata": {},
   "source": [
    "## Summary\n",
    "- Numpy is a powerful tool to work efficiently with numerical data.\n",
    "- Arrays are faster and consume less memory than Python lists.\n",
    "- Mastery of Numpy arrays, operations, and functions is essential for data science and ML.\n",
    "\n",
    "Next up: we will explore **Pandas**, the go-to library for data analysis and manipulation."
   ]
  }
 ],
 "metadata": {
  "kernelspec": {
   "display_name": "Python 3",
   "language": "python",
   "name": "python3"
  },
  "language_info": {
   "codemirror_mode": {
    "name": "ipython",
    "version": 3
   },
   "file_extension": ".py",
   "mimetype": "text/x-python",
   "name": "python",
   "nbconvert_exporter": "python",
   "pygments_lexer": "ipython3",
   "version": "3.7.2"
  }
 },
 "nbformat": 4,
 "nbformat_minor": 5
}
